{
 "cells": [
  {
   "cell_type": "markdown",
   "metadata": {},
   "source": [
    "## SVM et SVM multi classes"
   ]
  },
  {
   "cell_type": "code",
   "execution_count": 76,
   "metadata": {},
   "outputs": [],
   "source": [
    "import numpy as np\n",
    "import random\n",
    "import pandas as pd\n",
    "import qpsolvers\n",
    "from qpsolvers import solve_qp\n",
    "import cvxpy"
   ]
  },
  {
   "cell_type": "markdown",
   "metadata": {},
   "source": [
    "Soit $X$ la matrice représentant l'ensemble des données\n",
    "avec $X \\in \\mathbb{R^{n*d}}$\n",
    "\n",
    "Le but d'un SVM est de trouver l'hyperplan qui sépare \"le mieux\" les données reparties en deux classes.\n",
    "\n",
    "Nous allons tout d'abord implémenter un SVM linéaire classique, puis nous nous pencherons sur la construction d'un SVM multi classe."
   ]
  },
  {
   "cell_type": "markdown",
   "metadata": {},
   "source": [
    "## SVM linéaire pour k = 2"
   ]
  },
  {
   "cell_type": "markdown",
   "metadata": {},
   "source": [
    "On cherche l'hyperplan séparant au mieux les données.\n",
    "\n",
    "Soit un jeu de données $X \\in \\mathbb{R^{nxd}}$ et y son vecteur d'étiquettes.\n",
    "On suppose qu'on dispose de deux labels $\\{-1,1\\}$\n",
    "\n",
    "\n",
    "L'hyperplan permettant de séparer les données est caracterisé par $w \\in \\mathbb{R^d}$ et $b \\in \\mathbb{R}$\n",
    "\n",
    "On cherche à construire un classifieur h tel que:\n",
    "\n",
    "\\begin{equation}\n",
    "    h(x)=\n",
    "    \\begin{cases}\n",
    "      1, & \\text{si}\\ w.x + b \\geq 0 \\\\\n",
    "      -1, & \\text{sinon}\n",
    "    \\end{cases}\n",
    "  \\end{equation} \n",
    "\n",
    "Soit $(x_i, y_i)$ un individu du jeu de données et son label associé.\n",
    "alors \\begin{equation}\n",
    "    y_i=\n",
    "    \\begin{cases}\n",
    "      1, & \\text{si}\\ w.x_i + b \\geq 1 \\\\\n",
    "      -1, & \\text{si}\\ w.x_i + b \\leq -1 \n",
    "    \\end{cases}\n",
    "  \\end{equation}\n",
    "  \n",
    "On a donc $\\forall i \\in [n]\\  y_i(w.x_i + b) \\geq 1$.\n",
    "\n",
    "Les points qui satisfont l'égalité sont sur la marge autour de l'hyperplan.\n",
    "Trouver un hyperplan qui sépare \"le mieux\" les données revient à maximiser la taille de cette marge.\n",
    "\n",
    "Soit deux points $x_+$ et $x_-$ de part et d'autre de cette marge.\n",
    "\n",
    "Alors la taille de la marge est $m = (x_+ - x_-).\\dfrac{w}{||w||}$\n",
    "\n",
    "Comme $x_+.w + b = 1$ et $x_-.w + b = -1$\n",
    "\n",
    "On a, $m = \\dfrac {2}{||w||}$\n",
    "\n",
    "On cherche donc à résoudre le programme suivant:\n",
    "\n",
    "$$min\\  ||w||$$ \n",
    "\n",
    "$$s.c   \\ \\ \\  y_i(w.x_i + b) \\geq 1 \\ \\ \\ \\ \\ \\ \\forall i \\in [n]$$\n",
    "\n",
    "On peut alors se ramener à un problème quadratique \n",
    "(car $||w||  = w^T.w$) et résoudre son dual."
   ]
  },
  {
   "cell_type": "code",
   "execution_count": 73,
   "metadata": {},
   "outputs": [],
   "source": [
    "class SVMClassifier(object):\n",
    "    \n",
    "    def __init__(self):\n",
    "        self.w = None\n",
    "        self.b = None\n",
    "        self.label1 = None\n",
    "        self.label2 = None\n",
    "    \n",
    "    def train(self, X_train, y_train):\n",
    "        n = X_train.shape[0]\n",
    "        self.label1 = np.unique(y_train.values)[0] \n",
    "        self.label2 = np.unique(y_train.values)[1]\n",
    "        \n",
    "        # Variables permettant de caractériser le problème dual\n",
    "        # Ici P est toujours semi-definie positive\n",
    "        X = X_train.values\n",
    "        y = np.array([1 if x == self.label1 else -1 for x in y_train])\n",
    "        y_diag = np.diag(y)\n",
    "        P = y_diag@X@X.T@y_diag\n",
    "        q=-1*np.ones(n)\n",
    "        G=np.vstack((y,-1*y,-1*np.eye(n)))\n",
    "        h=np.zeros(n+2)\n",
    "        \n",
    "        # Résolution du problème dual\n",
    "        solDual= solve_qp(P, q, G, h, solver = 'cvxpy')\n",
    "        \n",
    "        # Récupération de w et b\n",
    "        self.w = X.T@y_diag@solDual\n",
    "        support_indices=np.where(solDual>0.001)[0]\n",
    "        self.b = 1/y[support_indices[0]]-self.w.T@X[support_indices[0]]\n",
    "        \n",
    "        return 1\n",
    "    \n",
    "    def predict(self, X_test):\n",
    "        n = X_test.shape[0]\n",
    "        return [self.label1 if np.dot(self.w, x) + self.b >= 0 else self.label2 for x in X_test]"
   ]
  },
  {
   "cell_type": "markdown",
   "metadata": {},
   "source": [
    "Le SVM multi classe que nous allons implémenter utilise une approche \"One to One\".\n",
    "Pour chaque paire de classes distinctes, nous allons construire un classifieur SVM.\n",
    "Ainsi, nous disposerons de k(k-1)/2 classifieurs \"one to one\".\n",
    "Nous utiliserons ensuite un vote à majorité pour classifier."
   ]
  },
  {
   "cell_type": "code",
   "execution_count": 74,
   "metadata": {},
   "outputs": [],
   "source": [
    "class MultClassSVMClassifier(object):\n",
    "    \n",
    "    def __init__(self):\n",
    "        self.classifiers = []\n",
    "    \n",
    "    def train(self, X_train, y_train):\n",
    "        # Récupération du nombre de classes\n",
    "        k = np.unique(y_train.values).size\n",
    "        labels = np.unique(y_train.values)\n",
    "        # Création des k(k-1)/2 classifieurs\n",
    "        for i in range(k):\n",
    "            for j in range(i+1, k):\n",
    "                svm = SVMClassifier()\n",
    "                svm.train(X_train.loc[(y_train == labels[i]) | (y_train == labels[j])], y_train.loc[(y_train == labels[i])| (y_train == labels[j])])\n",
    "                self.classifiers.append(svm)\n",
    "                \n",
    "    def predict(self, X_test):\n",
    "        predicts = []\n",
    "        for classifier in self.classifiers:\n",
    "            predicts.append(classifier.predict(X_test))\n",
    "            \n",
    "        predicts = np.transpose(predicts)\n",
    "        # Vote à majorité \n",
    "        result = [np.bincount(x).argmax() for x in predicts]\n",
    "        return result\n",
    "        "
   ]
  }
 ],
 "metadata": {
  "kernelspec": {
   "display_name": "Python 3",
   "language": "python",
   "name": "python3"
  },
  "language_info": {
   "codemirror_mode": {
    "name": "ipython",
    "version": 3
   },
   "file_extension": ".py",
   "mimetype": "text/x-python",
   "name": "python",
   "nbconvert_exporter": "python",
   "pygments_lexer": "ipython3",
   "version": "3.6.4"
  }
 },
 "nbformat": 4,
 "nbformat_minor": 2
}
